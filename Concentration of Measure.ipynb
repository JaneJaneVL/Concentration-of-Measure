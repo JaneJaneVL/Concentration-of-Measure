{
 "cells": [
  {
   "cell_type": "code",
   "execution_count": null,
   "metadata": {
    "collapsed": true
   },
   "outputs": [],
   "source": [
    "import numpy as np\n",
    "import math"
   ]
  },
  {
   "cell_type": "markdown",
   "metadata": {},
   "source": [
    "### Вычислительные эксперименты, иллюстрирующие явление концентрации равномерной меры на поверхности евклидовой сферы в малой окрестности экватора"
   ]
  },
  {
   "cell_type": "markdown",
   "metadata": {},
   "source": [
    "<i>Статья:</i>\n",
    "<br/>\n",
    "<i>Горбунов Э.А.</i>\n",
    "<br/>\n",
    "<i>МФТИ (Москва, Россия),</i>\n",
    "<br/>\n",
    "<i>Воронцова Е.А.</i>\n",
    "<br/>\n",
    "<i>ДВФУ (Владивосток, Россия),</i>\n",
    "<br/>\n",
    "<br/>\n",
    "<i>arxiv (in process)</i>"
   ]
  },
  {
   "cell_type": "code",
   "execution_count": null,
   "metadata": {
    "collapsed": true
   },
   "outputs": [],
   "source": [
    "def montecarlo(f, X, q, n, eps, gr = False, fs = False, s = []):\n",
    "    \"\"\"\n",
    "    Function to compute the Monte Carlo estimate of the expectation\n",
    "    E[f(X)], with N samples\n",
    "   \n",
    "    Inputs:\n",
    "    f - a Python function that applies a chosen mathematical function to\n",
    "    each entry in a numpy array\n",
    "    X - a Python function that takes N as input and returns\n",
    "    independent individually distributed random samples from a chosen\n",
    "    probability distribution\n",
    "    N - the number of samples to use\n",
    "    q -- additional parametr for f\n",
    "    \"\"\"\n",
    "    N = 2\n",
    "    if fs:\n",
    "        Fx = [f(X(n), q, n, s)]\n",
    "    else:    \n",
    "        Fx = [f(X(n), q, n)]\n",
    "        \n",
    "    mc_err = eps\n",
    "    mc_int = 1\n",
    "    \n",
    "    if gr:\n",
    "        plt_estint = []\n",
    "        plt_esterr = []\n",
    "        \n",
    "    while mc_err >= eps or N < 10:\n",
    "        \n",
    "        if fs:\n",
    "            Fx.append(f(X(n), q, n, s))\n",
    "        else:    \n",
    "            Fx.append(f(X(n), q, n))\n",
    "        \n",
    "        int_sum = np.sum(Fx)\n",
    "        mc_int = int_sum / N\n",
    "        \n",
    "        sq = [x*x for x in Fx]\n",
    "        sq = abs((np.sum(sq)/N - mc_int*mc_int) / N)\n",
    "        mc_err = math.sqrt(sq)\n",
    "        \n",
    "        if gr:\n",
    "            plt_estint.append(mc_int)\n",
    "            plt_esterr.append(mc_err) \n",
    "        \n",
    "        N += 1\n",
    "\n",
    "    if gr:    \n",
    "        \n",
    "        %matplotlib notebook\n",
    "        import matplotlib.pyplot as plt\n",
    "        plt.grid(True)\n",
    "        plt.plot(range(2, N), plt_estint, label = 'mc_int')\n",
    "        twope = [2*pe for pe in plt_esterr]\n",
    "        mtwope = [-2*pe for pe in plt_esterr]\n",
    "        plt.plot(range(2, N), [sum(pe) for pe in zip(plt_estint, twope)])\n",
    "        plt.plot(range(2, N), [sum(pe) for pe in zip(plt_estint, mtwope)])\n",
    "        plt.legend()        \n",
    "\n",
    "    return mc_int, N-1"
   ]
  },
  {
   "cell_type": "code",
   "execution_count": null,
   "metadata": {
    "collapsed": true
   },
   "outputs": [],
   "source": [
    "def func(e, q, n):\n",
    "    # Inputs:  \n",
    "    # e - a numpy array of values\n",
    "    # q - norm\n",
    "    # n - length of e\n",
    "    norm_e = np.linalg.norm(e, q)\n",
    "    sq = norm_e*norm_e\n",
    "    if q == np.inf:\n",
    "        return sq  / pow(n, -1.0)\n",
    "    else:    \n",
    "        return sq  / pow(n, 2./q - 1)"
   ]
  },
  {
   "cell_type": "code",
   "execution_count": null,
   "metadata": {
    "collapsed": true
   },
   "outputs": [],
   "source": [
    "# Generating uniformly distributed numbers on a sphere\n",
    "def get_rand_vec(dims):\n",
    "    e = np.random.standard_normal(int(dims))\n",
    "    return e / np.linalg.norm(e)"
   ]
  },
  {
   "cell_type": "code",
   "execution_count": null,
   "metadata": {
    "collapsed": true
   },
   "outputs": [],
   "source": [
    "nrange = range(10, int(1e5), 10)\n",
    "narr = np.array(nrange)\n",
    "\n",
    "plt1 = []\n",
    "q = np.inf\n",
    "for i, n in enumerate(narr):\n",
    "    \n",
    "    pract_estimate, N = montecarlo(func, get_rand_vec, q, n, 1e-1, False) \n",
    "    if q == np.inf:\n",
    "        theor_estimate = 16*math.log(n) - 8 #* n2q\n",
    "    else:\n",
    "        theor_estimate = min([q - 1, 16*math.log(n) - 8]) #* n2q\n",
    "    plt1.append(pract_estimate / theor_estimate)\n",
    "    #print('n = ', n, ', pract  = ', pract_estimate, ', from lemma = ', theor_estimate, N) \n",
    "        \n"
   ]
  },
  {
   "cell_type": "code",
   "execution_count": null,
   "metadata": {
    "collapsed": true
   },
   "outputs": [],
   "source": [
    "%matplotlib notebook\n",
    "import matplotlib.pyplot as plt\n",
    "plt.grid(True)\n",
    "plt.plot(nrange, plt1)\n",
    "plt.xlabel(r\"$n$\", fontsize=12)\n",
    "plt.ylabel(r\"$C_p/C_t$\", fontsize=10)\n",
    "plt.title(r\"$q = \\infty$\", fontsize = 11);\n",
    "#plt.legend()"
   ]
  },
  {
   "cell_type": "markdown",
   "metadata": {},
   "source": [
    "#### Второе неравенство, с вектором $s$"
   ]
  },
  {
   "cell_type": "code",
   "execution_count": null,
   "metadata": {
    "collapsed": true
   },
   "outputs": [],
   "source": [
    "def func_es(e, q, n, s):\n",
    "    # Inputs:  \n",
    "    # e - a numpy array of values\n",
    "    # q - norm\n",
    "    # n - length of e\n",
    "    # s - vector\n",
    "    norm_e = np.linalg.norm(e, q)\n",
    "    sq_e = norm_e*norm_e\n",
    "    \n",
    "    se = s.T.dot(e)\n",
    "    se2 = se*se\n",
    "    \n",
    "    if q == np.inf:\n",
    "        return float(sq_e*se2  / pow(n, -2.0)) \n",
    "    else:    \n",
    "        return float(sq_e*se2  / pow(n, 2./q - 2)) "
   ]
  },
  {
   "cell_type": "markdown",
   "metadata": {},
   "source": [
    "Не ограничивая общности, будем считать, что $s$ --- просто орт $(1, \\, 0, \\, 0, \\, \\ldots)$"
   ]
  },
  {
   "cell_type": "code",
   "execution_count": null,
   "metadata": {
    "collapsed": true
   },
   "outputs": [],
   "source": [
    "nrange = range(10, int(1e5), 100)\n",
    "narr = np.array(nrange)\n",
    "\n",
    "plt2 = []\n",
    "q = np.inf\n",
    "for i, n in enumerate(narr):\n",
    "    \n",
    "    s = np.zeros([n, 1])\n",
    "    s[0] = 1\n",
    "    \n",
    "    pract_estimate, N = montecarlo(func_es, get_rand_vec, q, n, 1e-1, False, True, s) \n",
    "    \n",
    "    norm_s = np.linalg.norm(s, 2)\n",
    "    sq_norm_s = norm_s*norm_s\n",
    "    \n",
    "    if q == np.inf:\n",
    "        theor_estimate = math.sqrt(3)*sq_norm_s*(32*math.log(n) - 8) \n",
    "    else:\n",
    "        theor_estimate = math.sqrt(3) * sq_norm_s*min([2*q - 1, 32*math.log(n) - 8]) \n",
    "    plt2.append(pract_estimate / theor_estimate)\n",
    "    print('n = ', n, ', pract  = ', pract_estimate, ', from lemma = ', theor_estimate, N) \n",
    "        \n"
   ]
  },
  {
   "cell_type": "code",
   "execution_count": null,
   "metadata": {
    "collapsed": true
   },
   "outputs": [],
   "source": [
    "%matplotlib notebook\n",
    "import matplotlib.pyplot as plt\n",
    "plt.grid(True)\n",
    "plt.plot(nrange, plt2)\n",
    "plt.xlabel(r\"$n$\", fontsize=12)\n",
    "plt.ticklabel_format(style='sci', axis='y', scilimits=(-2, 2))\n",
    "plt.ylabel(r\"$C_p/C_t$\", fontsize=11)\n",
    "plt.title(r\"$q = \\infty$\", fontsize = 12);"
   ]
  }
 ],
 "metadata": {
  "kernelspec": {
   "display_name": "Python 3",
   "language": "python",
   "name": "python3"
  },
  "language_info": {
   "codemirror_mode": {
    "name": "ipython",
    "version": 3
   },
   "file_extension": ".py",
   "mimetype": "text/x-python",
   "name": "python",
   "nbconvert_exporter": "python",
   "pygments_lexer": "ipython3",
   "version": "3.6.1"
  }
 },
 "nbformat": 4,
 "nbformat_minor": 2
}
